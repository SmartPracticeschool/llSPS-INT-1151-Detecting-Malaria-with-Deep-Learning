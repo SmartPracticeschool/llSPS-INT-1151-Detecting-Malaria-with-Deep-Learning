{
 "cells": [
  {
   "cell_type": "code",
   "execution_count": 1,
   "metadata": {},
   "outputs": [
    {
     "name": "stderr",
     "output_type": "stream",
     "text": [
      "Using TensorFlow backend.\n",
      "C:\\Users\\Sraavya\\anaconda3\\lib\\site-packages\\tensorflow\\python\\framework\\dtypes.py:516: FutureWarning: Passing (type, 1) or '1type' as a synonym of type is deprecated; in a future version of numpy, it will be understood as (type, (1,)) / '(1,)type'.\n",
      "  _np_qint8 = np.dtype([(\"qint8\", np.int8, 1)])\n",
      "C:\\Users\\Sraavya\\anaconda3\\lib\\site-packages\\tensorflow\\python\\framework\\dtypes.py:517: FutureWarning: Passing (type, 1) or '1type' as a synonym of type is deprecated; in a future version of numpy, it will be understood as (type, (1,)) / '(1,)type'.\n",
      "  _np_quint8 = np.dtype([(\"quint8\", np.uint8, 1)])\n",
      "C:\\Users\\Sraavya\\anaconda3\\lib\\site-packages\\tensorflow\\python\\framework\\dtypes.py:518: FutureWarning: Passing (type, 1) or '1type' as a synonym of type is deprecated; in a future version of numpy, it will be understood as (type, (1,)) / '(1,)type'.\n",
      "  _np_qint16 = np.dtype([(\"qint16\", np.int16, 1)])\n",
      "C:\\Users\\Sraavya\\anaconda3\\lib\\site-packages\\tensorflow\\python\\framework\\dtypes.py:519: FutureWarning: Passing (type, 1) or '1type' as a synonym of type is deprecated; in a future version of numpy, it will be understood as (type, (1,)) / '(1,)type'.\n",
      "  _np_quint16 = np.dtype([(\"quint16\", np.uint16, 1)])\n",
      "C:\\Users\\Sraavya\\anaconda3\\lib\\site-packages\\tensorflow\\python\\framework\\dtypes.py:520: FutureWarning: Passing (type, 1) or '1type' as a synonym of type is deprecated; in a future version of numpy, it will be understood as (type, (1,)) / '(1,)type'.\n",
      "  _np_qint32 = np.dtype([(\"qint32\", np.int32, 1)])\n",
      "C:\\Users\\Sraavya\\anaconda3\\lib\\site-packages\\tensorflow\\python\\framework\\dtypes.py:525: FutureWarning: Passing (type, 1) or '1type' as a synonym of type is deprecated; in a future version of numpy, it will be understood as (type, (1,)) / '(1,)type'.\n",
      "  np_resource = np.dtype([(\"resource\", np.ubyte, 1)])\n",
      "C:\\Users\\Sraavya\\anaconda3\\lib\\site-packages\\tensorboard\\compat\\tensorflow_stub\\dtypes.py:541: FutureWarning: Passing (type, 1) or '1type' as a synonym of type is deprecated; in a future version of numpy, it will be understood as (type, (1,)) / '(1,)type'.\n",
      "  _np_qint8 = np.dtype([(\"qint8\", np.int8, 1)])\n",
      "C:\\Users\\Sraavya\\anaconda3\\lib\\site-packages\\tensorboard\\compat\\tensorflow_stub\\dtypes.py:542: FutureWarning: Passing (type, 1) or '1type' as a synonym of type is deprecated; in a future version of numpy, it will be understood as (type, (1,)) / '(1,)type'.\n",
      "  _np_quint8 = np.dtype([(\"quint8\", np.uint8, 1)])\n",
      "C:\\Users\\Sraavya\\anaconda3\\lib\\site-packages\\tensorboard\\compat\\tensorflow_stub\\dtypes.py:543: FutureWarning: Passing (type, 1) or '1type' as a synonym of type is deprecated; in a future version of numpy, it will be understood as (type, (1,)) / '(1,)type'.\n",
      "  _np_qint16 = np.dtype([(\"qint16\", np.int16, 1)])\n",
      "C:\\Users\\Sraavya\\anaconda3\\lib\\site-packages\\tensorboard\\compat\\tensorflow_stub\\dtypes.py:544: FutureWarning: Passing (type, 1) or '1type' as a synonym of type is deprecated; in a future version of numpy, it will be understood as (type, (1,)) / '(1,)type'.\n",
      "  _np_quint16 = np.dtype([(\"quint16\", np.uint16, 1)])\n",
      "C:\\Users\\Sraavya\\anaconda3\\lib\\site-packages\\tensorboard\\compat\\tensorflow_stub\\dtypes.py:545: FutureWarning: Passing (type, 1) or '1type' as a synonym of type is deprecated; in a future version of numpy, it will be understood as (type, (1,)) / '(1,)type'.\n",
      "  _np_qint32 = np.dtype([(\"qint32\", np.int32, 1)])\n",
      "C:\\Users\\Sraavya\\anaconda3\\lib\\site-packages\\tensorboard\\compat\\tensorflow_stub\\dtypes.py:550: FutureWarning: Passing (type, 1) or '1type' as a synonym of type is deprecated; in a future version of numpy, it will be understood as (type, (1,)) / '(1,)type'.\n",
      "  np_resource = np.dtype([(\"resource\", np.ubyte, 1)])\n"
     ]
    }
   ],
   "source": [
    "from keras.models import Sequential\n",
    "from keras.layers import Dense\n",
    "from keras.layers import Convolution2D\n",
    "from keras.layers import MaxPooling2D\n",
    "from keras.layers import Flatten"
   ]
  },
  {
   "cell_type": "code",
   "execution_count": 2,
   "metadata": {},
   "outputs": [],
   "source": [
    "#Intialize the model\n",
    "model=Sequential()"
   ]
  },
  {
   "cell_type": "code",
   "execution_count": 3,
   "metadata": {},
   "outputs": [],
   "source": [
    "# Add Convolution Layer\n",
    "model.add(Convolution2D(32,(3,3),input_shape=(64,64,3),activation=\"relu\"))"
   ]
  },
  {
   "cell_type": "code",
   "execution_count": 4,
   "metadata": {},
   "outputs": [
    {
     "name": "stdout",
     "output_type": "stream",
     "text": [
      "WARNING:tensorflow:From C:\\Users\\Sraavya\\anaconda3\\lib\\site-packages\\keras\\backend\\tensorflow_backend.py:4070: The name tf.nn.max_pool is deprecated. Please use tf.nn.max_pool2d instead.\n",
      "\n"
     ]
    }
   ],
   "source": [
    "#Add Pooling Layer\n",
    "model.add(MaxPooling2D(pool_size = (2, 2)))"
   ]
  },
  {
   "cell_type": "code",
   "execution_count": 5,
   "metadata": {},
   "outputs": [],
   "source": [
    "#Add Flattening Layer\n",
    "model.add(Flatten())"
   ]
  },
  {
   "cell_type": "code",
   "execution_count": 6,
   "metadata": {},
   "outputs": [
    {
     "name": "stderr",
     "output_type": "stream",
     "text": [
      "C:\\Users\\Sraavya\\anaconda3\\lib\\site-packages\\ipykernel_launcher.py:2: UserWarning: Update your `Dense` call to the Keras 2 API: `Dense(activation=\"relu\", units=120, kernel_initializer=\"uniform\")`\n",
      "  \n"
     ]
    }
   ],
   "source": [
    "#Add Hidden Layer\n",
    "model.add(Dense(init=\"uniform\",activation=\"relu\",output_dim=120))"
   ]
  },
  {
   "cell_type": "code",
   "execution_count": 7,
   "metadata": {},
   "outputs": [
    {
     "name": "stderr",
     "output_type": "stream",
     "text": [
      "C:\\Users\\Sraavya\\anaconda3\\lib\\site-packages\\ipykernel_launcher.py:2: UserWarning: Update your `Dense` call to the Keras 2 API: `Dense(activation=\"sigmoid\", units=1, kernel_initializer=\"uniform\")`\n",
      "  \n"
     ]
    }
   ],
   "source": [
    "#Add Output layer\n",
    "model.add(Dense(init=\"uniform\",activation=\"sigmoid\",output_dim=1))"
   ]
  },
  {
   "cell_type": "code",
   "execution_count": 8,
   "metadata": {},
   "outputs": [
    {
     "name": "stdout",
     "output_type": "stream",
     "text": [
      "WARNING:tensorflow:From C:\\Users\\Sraavya\\anaconda3\\lib\\site-packages\\tensorflow\\python\\ops\\nn_impl.py:180: add_dispatch_support.<locals>.wrapper (from tensorflow.python.ops.array_ops) is deprecated and will be removed in a future version.\n",
      "Instructions for updating:\n",
      "Use tf.where in 2.0, which has the same broadcast rule as np.where\n"
     ]
    }
   ],
   "source": [
    "#Compile the model\n",
    "model.compile(loss=\"binary_crossentropy\",optimizer=\"adam\",metrics=[\"accuracy\"])"
   ]
  },
  {
   "cell_type": "code",
   "execution_count": 9,
   "metadata": {},
   "outputs": [],
   "source": [
    "from keras.preprocessing.image import ImageDataGenerator"
   ]
  },
  {
   "cell_type": "code",
   "execution_count": 10,
   "metadata": {},
   "outputs": [],
   "source": [
    "train_datagen = ImageDataGenerator(rescale = 1./255,\n",
    "                                   shear_range = 0.2,\n",
    "                                   zoom_range = 0.2,\n",
    "                                   rotation_range=0.8,\n",
    "                                   horizontal_flip = True,\n",
    "                                  vertical_flip=True)\n",
    "\n",
    "test_datagen = ImageDataGenerator(rescale = 1./255)"
   ]
  },
  {
   "cell_type": "code",
   "execution_count": 11,
   "metadata": {},
   "outputs": [
    {
     "name": "stdout",
     "output_type": "stream",
     "text": [
      "Found 1600 images belonging to 2 classes.\n",
      "Found 400 images belonging to 2 classes.\n"
     ]
    }
   ],
   "source": [
    "x_train = train_datagen.flow_from_directory(r'C:\\Users\\Sraavya\\Desktop\\project1\\train_set',\n",
    "                                                 target_size = (64, 64),\n",
    "                                                 batch_size = 32,\n",
    "                                                class_mode = 'binary')\n",
    "x_test = test_datagen.flow_from_directory(r'C:\\Users\\Sraavya\\Desktop\\project1\\test_set',\n",
    "                                            target_size = (64, 64),\n",
    "                                            batch_size = 32,\n",
    "                                            class_mode = 'binary')\n"
   ]
  },
  {
   "cell_type": "code",
   "execution_count": 12,
   "metadata": {},
   "outputs": [
    {
     "name": "stdout",
     "output_type": "stream",
     "text": [
      "{'infected': 0, 'uninfected': 1}\n"
     ]
    }
   ],
   "source": [
    "print(x_train.class_indices)"
   ]
  },
  {
   "cell_type": "code",
   "execution_count": 13,
   "metadata": {},
   "outputs": [
    {
     "name": "stderr",
     "output_type": "stream",
     "text": [
      "C:\\Users\\Sraavya\\anaconda3\\lib\\site-packages\\ipykernel_launcher.py:1: UserWarning: The semantics of the Keras 2 argument `steps_per_epoch` is not the same as the Keras 1 argument `samples_per_epoch`. `steps_per_epoch` is the number of batches to draw from the generator at each epoch. Basically steps_per_epoch = samples_per_epoch/batch_size. Similarly `nb_val_samples`->`validation_steps` and `val_samples`->`steps` arguments have changed. Update your method calls accordingly.\n",
      "  \"\"\"Entry point for launching an IPython kernel.\n",
      "C:\\Users\\Sraavya\\anaconda3\\lib\\site-packages\\ipykernel_launcher.py:1: UserWarning: Update your `fit_generator` call to the Keras 2 API: `fit_generator(<keras.pre..., epochs=50, validation_data=<keras.pre..., steps_per_epoch=62, validation_steps=200)`\n",
      "  \"\"\"Entry point for launching an IPython kernel.\n"
     ]
    },
    {
     "name": "stdout",
     "output_type": "stream",
     "text": [
      "WARNING:tensorflow:From C:\\Users\\Sraavya\\anaconda3\\lib\\site-packages\\keras\\backend\\tensorflow_backend.py:422: The name tf.global_variables is deprecated. Please use tf.compat.v1.global_variables instead.\n",
      "\n",
      "Epoch 1/50\n",
      "62/62 [==============================] - 16s 261ms/step - loss: 0.6027 - accuracy: 0.6507 - val_loss: 0.7833 - val_accuracy: 0.7693\n",
      "Epoch 2/50\n",
      "62/62 [==============================] - 17s 276ms/step - loss: 0.3642 - accuracy: 0.8558 - val_loss: 0.4413 - val_accuracy: 0.8328\n",
      "Epoch 3/50\n",
      "62/62 [==============================] - 17s 278ms/step - loss: 0.2712 - accuracy: 0.9113 - val_loss: 0.4327 - val_accuracy: 0.7756\n",
      "Epoch 4/50\n",
      "62/62 [==============================] - 17s 268ms/step - loss: 0.2896 - accuracy: 0.8851 - val_loss: 0.2654 - val_accuracy: 0.8971\n",
      "Epoch 5/50\n",
      "62/62 [==============================] - 18s 284ms/step - loss: 0.2160 - accuracy: 0.9249 - val_loss: 0.4044 - val_accuracy: 0.8331\n",
      "Epoch 6/50\n",
      "62/62 [==============================] - 17s 275ms/step - loss: 0.2506 - accuracy: 0.8987 - val_loss: 0.3604 - val_accuracy: 0.8175\n",
      "Epoch 7/50\n",
      "62/62 [==============================] - 16s 265ms/step - loss: 0.2071 - accuracy: 0.9183 - val_loss: 0.2135 - val_accuracy: 0.8435\n",
      "Epoch 8/50\n",
      "62/62 [==============================] - 17s 281ms/step - loss: 0.1881 - accuracy: 0.9264 - val_loss: 0.2530 - val_accuracy: 0.8439\n",
      "Epoch 9/50\n",
      "62/62 [==============================] - 18s 291ms/step - loss: 0.1696 - accuracy: 0.9400 - val_loss: 0.3068 - val_accuracy: 0.9107\n",
      "Epoch 10/50\n",
      "62/62 [==============================] - 17s 282ms/step - loss: 0.1765 - accuracy: 0.9325 - val_loss: 0.7801 - val_accuracy: 0.7161\n",
      "Epoch 11/50\n",
      "62/62 [==============================] - 18s 287ms/step - loss: 0.1591 - accuracy: 0.9385 - val_loss: 0.4899 - val_accuracy: 0.8667\n",
      "Epoch 12/50\n",
      "62/62 [==============================] - 17s 280ms/step - loss: 0.1310 - accuracy: 0.9501 - val_loss: 0.2889 - val_accuracy: 0.9032\n",
      "Epoch 13/50\n",
      "62/62 [==============================] - 18s 292ms/step - loss: 0.1202 - accuracy: 0.9572 - val_loss: 0.3057 - val_accuracy: 0.8477\n",
      "Epoch 14/50\n",
      "62/62 [==============================] - 18s 284ms/step - loss: 0.1131 - accuracy: 0.9572 - val_loss: 0.4078 - val_accuracy: 0.8823\n",
      "Epoch 15/50\n",
      "62/62 [==============================] - 18s 294ms/step - loss: 0.1051 - accuracy: 0.9602 - val_loss: 0.1253 - val_accuracy: 0.9606\n",
      "Epoch 16/50\n",
      "62/62 [==============================] - 19s 302ms/step - loss: 0.1055 - accuracy: 0.9627 - val_loss: 0.2374 - val_accuracy: 0.8799\n",
      "Epoch 17/50\n",
      "62/62 [==============================] - 18s 289ms/step - loss: 0.1791 - accuracy: 0.9234 - val_loss: 0.1188 - val_accuracy: 0.9206\n",
      "Epoch 18/50\n",
      "62/62 [==============================] - 19s 309ms/step - loss: 0.1107 - accuracy: 0.9592 - val_loss: 0.1173 - val_accuracy: 0.9529\n",
      "Epoch 19/50\n",
      "62/62 [==============================] - 20s 324ms/step - loss: 0.0925 - accuracy: 0.9703 - val_loss: 0.0899 - val_accuracy: 0.9549\n",
      "Epoch 20/50\n",
      "62/62 [==============================] - 20s 323ms/step - loss: 0.0972 - accuracy: 0.9637 - val_loss: 0.0457 - val_accuracy: 0.9500\n",
      "Epoch 21/50\n",
      "62/62 [==============================] - 20s 317ms/step - loss: 0.0788 - accuracy: 0.9753 - val_loss: 0.0936 - val_accuracy: 0.9430\n",
      "Epoch 22/50\n",
      "62/62 [==============================] - 18s 295ms/step - loss: 0.0752 - accuracy: 0.9728 - val_loss: 0.4064 - val_accuracy: 0.8771\n",
      "Epoch 23/50\n",
      "62/62 [==============================] - 18s 283ms/step - loss: 0.0627 - accuracy: 0.9814 - val_loss: 0.1634 - val_accuracy: 0.9250\n",
      "Epoch 24/50\n",
      "62/62 [==============================] - 18s 288ms/step - loss: 0.0671 - accuracy: 0.9768 - val_loss: 0.5599 - val_accuracy: 0.8757\n",
      "Epoch 25/50\n",
      "62/62 [==============================] - 17s 282ms/step - loss: 0.0676 - accuracy: 0.9768 - val_loss: 0.3226 - val_accuracy: 0.9003\n",
      "Epoch 26/50\n",
      "62/62 [==============================] - 16s 266ms/step - loss: 0.0687 - accuracy: 0.9748 - val_loss: 0.3142 - val_accuracy: 0.8975\n",
      "Epoch 27/50\n",
      "62/62 [==============================] - 16s 258ms/step - loss: 0.0668 - accuracy: 0.9793 - val_loss: 0.1393 - val_accuracy: 0.9359\n",
      "Epoch 28/50\n",
      "62/62 [==============================] - 17s 279ms/step - loss: 0.0584 - accuracy: 0.9788 - val_loss: 0.2217 - val_accuracy: 0.9274\n",
      "Epoch 29/50\n",
      "62/62 [==============================] - 17s 281ms/step - loss: 0.0601 - accuracy: 0.9808 - val_loss: 0.3412 - val_accuracy: 0.9049\n",
      "Epoch 30/50\n",
      "62/62 [==============================] - 18s 293ms/step - loss: 0.0535 - accuracy: 0.9788 - val_loss: 0.2651 - val_accuracy: 0.9521\n",
      "Epoch 31/50\n",
      "62/62 [==============================] - 17s 269ms/step - loss: 0.0862 - accuracy: 0.9667 - val_loss: 0.3503 - val_accuracy: 0.8956\n",
      "Epoch 32/50\n",
      "62/62 [==============================] - 17s 270ms/step - loss: 0.0680 - accuracy: 0.9773 - val_loss: 0.5271 - val_accuracy: 0.8657\n",
      "Epoch 33/50\n",
      "62/62 [==============================] - 18s 285ms/step - loss: 0.0679 - accuracy: 0.9748 - val_loss: 0.1154 - val_accuracy: 0.9099\n",
      "Epoch 34/50\n",
      "62/62 [==============================] - 18s 287ms/step - loss: 0.0677 - accuracy: 0.9728 - val_loss: 0.2200 - val_accuracy: 0.9102\n",
      "Epoch 35/50\n",
      "62/62 [==============================] - 18s 284ms/step - loss: 0.0465 - accuracy: 0.9829 - val_loss: 0.4201 - val_accuracy: 0.9255\n",
      "Epoch 36/50\n",
      "62/62 [==============================] - 18s 283ms/step - loss: 0.0499 - accuracy: 0.9834 - val_loss: 0.0721 - val_accuracy: 0.9477\n",
      "Epoch 37/50\n",
      "62/62 [==============================] - 18s 286ms/step - loss: 0.0587 - accuracy: 0.9788 - val_loss: 0.7702 - val_accuracy: 0.8791\n",
      "Epoch 38/50\n",
      "62/62 [==============================] - 18s 291ms/step - loss: 0.0793 - accuracy: 0.9753 - val_loss: 0.0470 - val_accuracy: 0.9748\n",
      "Epoch 39/50\n",
      "62/62 [==============================] - 17s 282ms/step - loss: 0.0960 - accuracy: 0.9672 - val_loss: 0.2049 - val_accuracy: 0.9149\n",
      "Epoch 40/50\n",
      "62/62 [==============================] - 17s 277ms/step - loss: 0.0801 - accuracy: 0.9688 - val_loss: 0.0836 - val_accuracy: 0.9497\n",
      "Epoch 41/50\n",
      "62/62 [==============================] - 18s 294ms/step - loss: 0.0639 - accuracy: 0.9798 - val_loss: 0.0189 - val_accuracy: 0.9295\n",
      "Epoch 42/50\n",
      "62/62 [==============================] - 17s 281ms/step - loss: 0.0428 - accuracy: 0.9854 - val_loss: 0.1360 - val_accuracy: 0.9631\n",
      "Epoch 43/50\n",
      "62/62 [==============================] - 16s 265ms/step - loss: 0.0369 - accuracy: 0.9894 - val_loss: 0.2172 - val_accuracy: 0.9399\n",
      "Epoch 44/50\n",
      "62/62 [==============================] - 17s 268ms/step - loss: 0.0499 - accuracy: 0.9834 - val_loss: 0.3825 - val_accuracy: 0.8997\n",
      "Epoch 45/50\n",
      "62/62 [==============================] - 17s 269ms/step - loss: 0.0338 - accuracy: 0.9894 - val_loss: 0.1006 - val_accuracy: 0.9575\n",
      "Epoch 46/50\n",
      "62/62 [==============================] - 17s 271ms/step - loss: 0.0518 - accuracy: 0.9803 - val_loss: 0.1199 - val_accuracy: 0.9255\n",
      "Epoch 47/50\n",
      "62/62 [==============================] - 16s 262ms/step - loss: 0.0669 - accuracy: 0.9733 - val_loss: 0.1512 - val_accuracy: 0.9521\n",
      "Epoch 48/50\n",
      "62/62 [==============================] - 16s 266ms/step - loss: 0.0511 - accuracy: 0.9819 - val_loss: 0.1272 - val_accuracy: 0.9448\n",
      "Epoch 49/50\n",
      "62/62 [==============================] - 17s 278ms/step - loss: 0.0571 - accuracy: 0.9814 - val_loss: 0.3506 - val_accuracy: 0.8630\n",
      "Epoch 50/50\n",
      "62/62 [==============================] - 17s 278ms/step - loss: 0.0589 - accuracy: 0.9763 - val_loss: 0.0562 - val_accuracy: 0.9448\n"
     ]
    },
    {
     "data": {
      "text/plain": [
       "<keras.callbacks.callbacks.History at 0x23d10e639c8>"
      ]
     },
     "execution_count": 13,
     "metadata": {},
     "output_type": "execute_result"
    }
   ],
   "source": [
    "model.fit_generator(x_train,samples_per_epoch = 2000,epochs=50,validation_data=x_test,nb_val_samples=200)"
   ]
  },
  {
   "cell_type": "code",
   "execution_count": 29,
   "metadata": {},
   "outputs": [],
   "source": [
    "model.save('mymodel.h5')"
   ]
  },
  {
   "cell_type": "code",
   "execution_count": 30,
   "metadata": {},
   "outputs": [],
   "source": [
    "from keras.models import load_model\n",
    "import numpy as np\n"
   ]
  },
  {
   "cell_type": "code",
   "execution_count": 37,
   "metadata": {},
   "outputs": [],
   "source": [
    "import cv2\n",
    "model=load_model('mymodel.h5')"
   ]
  },
  {
   "cell_type": "code",
   "execution_count": 38,
   "metadata": {},
   "outputs": [],
   "source": [
    "from skimage.transform import resize\n",
    "\n",
    "def detect(frame):\n",
    "    try:\n",
    "        img = resize(frame,(64,64))\n",
    "        img = np.expand_dims(img,axis=0)\n",
    "        if(np.max(img)>1):\n",
    "            img = img/255.0\n",
    "        prediction = model.predict(img)\n",
    "        print(prediction)\n",
    "        prediction = model.predict_classes(img)\n",
    "        print(prediction)\n",
    "    except AttributeError:\n",
    "        print(\"shape not found\")"
   ]
  },
  {
   "cell_type": "code",
   "execution_count": 39,
   "metadata": {},
   "outputs": [
    {
     "name": "stdout",
     "output_type": "stream",
     "text": [
      "[[1.6362123e-06]]\n",
      "[[0]]\n"
     ]
    }
   ],
   "source": [
    "frame=cv2.imread(r\"C:\\Users\\Sraavya\\Desktop\\project1\\test_set\\infected\\12.png\")\n",
    "data=detect(frame)"
   ]
  },
  {
   "cell_type": "code",
   "execution_count": null,
   "metadata": {},
   "outputs": [],
   "source": []
  },
  {
   "cell_type": "code",
   "execution_count": null,
   "metadata": {},
   "outputs": [],
   "source": []
  }
 ],
 "metadata": {
  "kernelspec": {
   "display_name": "Python 3",
   "language": "python",
   "name": "python3"
  },
  "language_info": {
   "codemirror_mode": {
    "name": "ipython",
    "version": 3
   },
   "file_extension": ".py",
   "mimetype": "text/x-python",
   "name": "python",
   "nbconvert_exporter": "python",
   "pygments_lexer": "ipython3",
   "version": "3.7.6"
  }
 },
 "nbformat": 4,
 "nbformat_minor": 4
}
