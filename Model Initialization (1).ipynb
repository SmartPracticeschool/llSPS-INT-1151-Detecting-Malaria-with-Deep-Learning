{
 "cells": [
  {
   "cell_type": "code",
   "execution_count": 1,
   "metadata": {},
   "outputs": [
    {
     "name": "stderr",
     "output_type": "stream",
     "text": [
      "Using TensorFlow backend.\n",
      "C:\\Users\\Gowtham Reddy\\anaconda3\\lib\\site-packages\\tensorflow\\python\\framework\\dtypes.py:516: FutureWarning: Passing (type, 1) or '1type' as a synonym of type is deprecated; in a future version of numpy, it will be understood as (type, (1,)) / '(1,)type'.\n",
      "  _np_qint8 = np.dtype([(\"qint8\", np.int8, 1)])\n",
      "C:\\Users\\Gowtham Reddy\\anaconda3\\lib\\site-packages\\tensorflow\\python\\framework\\dtypes.py:517: FutureWarning: Passing (type, 1) or '1type' as a synonym of type is deprecated; in a future version of numpy, it will be understood as (type, (1,)) / '(1,)type'.\n",
      "  _np_quint8 = np.dtype([(\"quint8\", np.uint8, 1)])\n",
      "C:\\Users\\Gowtham Reddy\\anaconda3\\lib\\site-packages\\tensorflow\\python\\framework\\dtypes.py:518: FutureWarning: Passing (type, 1) or '1type' as a synonym of type is deprecated; in a future version of numpy, it will be understood as (type, (1,)) / '(1,)type'.\n",
      "  _np_qint16 = np.dtype([(\"qint16\", np.int16, 1)])\n",
      "C:\\Users\\Gowtham Reddy\\anaconda3\\lib\\site-packages\\tensorflow\\python\\framework\\dtypes.py:519: FutureWarning: Passing (type, 1) or '1type' as a synonym of type is deprecated; in a future version of numpy, it will be understood as (type, (1,)) / '(1,)type'.\n",
      "  _np_quint16 = np.dtype([(\"quint16\", np.uint16, 1)])\n",
      "C:\\Users\\Gowtham Reddy\\anaconda3\\lib\\site-packages\\tensorflow\\python\\framework\\dtypes.py:520: FutureWarning: Passing (type, 1) or '1type' as a synonym of type is deprecated; in a future version of numpy, it will be understood as (type, (1,)) / '(1,)type'.\n",
      "  _np_qint32 = np.dtype([(\"qint32\", np.int32, 1)])\n",
      "C:\\Users\\Gowtham Reddy\\anaconda3\\lib\\site-packages\\tensorflow\\python\\framework\\dtypes.py:525: FutureWarning: Passing (type, 1) or '1type' as a synonym of type is deprecated; in a future version of numpy, it will be understood as (type, (1,)) / '(1,)type'.\n",
      "  np_resource = np.dtype([(\"resource\", np.ubyte, 1)])\n",
      "C:\\Users\\Gowtham Reddy\\anaconda3\\lib\\site-packages\\tensorboard\\compat\\tensorflow_stub\\dtypes.py:541: FutureWarning: Passing (type, 1) or '1type' as a synonym of type is deprecated; in a future version of numpy, it will be understood as (type, (1,)) / '(1,)type'.\n",
      "  _np_qint8 = np.dtype([(\"qint8\", np.int8, 1)])\n",
      "C:\\Users\\Gowtham Reddy\\anaconda3\\lib\\site-packages\\tensorboard\\compat\\tensorflow_stub\\dtypes.py:542: FutureWarning: Passing (type, 1) or '1type' as a synonym of type is deprecated; in a future version of numpy, it will be understood as (type, (1,)) / '(1,)type'.\n",
      "  _np_quint8 = np.dtype([(\"quint8\", np.uint8, 1)])\n",
      "C:\\Users\\Gowtham Reddy\\anaconda3\\lib\\site-packages\\tensorboard\\compat\\tensorflow_stub\\dtypes.py:543: FutureWarning: Passing (type, 1) or '1type' as a synonym of type is deprecated; in a future version of numpy, it will be understood as (type, (1,)) / '(1,)type'.\n",
      "  _np_qint16 = np.dtype([(\"qint16\", np.int16, 1)])\n",
      "C:\\Users\\Gowtham Reddy\\anaconda3\\lib\\site-packages\\tensorboard\\compat\\tensorflow_stub\\dtypes.py:544: FutureWarning: Passing (type, 1) or '1type' as a synonym of type is deprecated; in a future version of numpy, it will be understood as (type, (1,)) / '(1,)type'.\n",
      "  _np_quint16 = np.dtype([(\"quint16\", np.uint16, 1)])\n",
      "C:\\Users\\Gowtham Reddy\\anaconda3\\lib\\site-packages\\tensorboard\\compat\\tensorflow_stub\\dtypes.py:545: FutureWarning: Passing (type, 1) or '1type' as a synonym of type is deprecated; in a future version of numpy, it will be understood as (type, (1,)) / '(1,)type'.\n",
      "  _np_qint32 = np.dtype([(\"qint32\", np.int32, 1)])\n",
      "C:\\Users\\Gowtham Reddy\\anaconda3\\lib\\site-packages\\tensorboard\\compat\\tensorflow_stub\\dtypes.py:550: FutureWarning: Passing (type, 1) or '1type' as a synonym of type is deprecated; in a future version of numpy, it will be understood as (type, (1,)) / '(1,)type'.\n",
      "  np_resource = np.dtype([(\"resource\", np.ubyte, 1)])\n"
     ]
    }
   ],
   "source": [
    "from keras.models import Sequential\n",
    "from keras.layers import Dense\n",
    "from keras.layers import Convolution2D\n",
    "from keras.layers import MaxPooling2D\n",
    "from keras.layers import Flatten"
   ]
  },
  {
   "cell_type": "code",
   "execution_count": 2,
   "metadata": {},
   "outputs": [],
   "source": [
    "#Intialize the model\n",
    "model=Sequential()"
   ]
  },
  {
   "cell_type": "code",
   "execution_count": 3,
   "metadata": {},
   "outputs": [],
   "source": [
    "# Add Convolution Layer\n",
    "model.add(Convolution2D(32,(3,3),input_shape=(64,64,3),activation=\"relu\"))"
   ]
  },
  {
   "cell_type": "code",
   "execution_count": 4,
   "metadata": {},
   "outputs": [
    {
     "name": "stdout",
     "output_type": "stream",
     "text": [
      "WARNING:tensorflow:From C:\\Users\\Gowtham Reddy\\anaconda3\\lib\\site-packages\\keras\\backend\\tensorflow_backend.py:4070: The name tf.nn.max_pool is deprecated. Please use tf.nn.max_pool2d instead.\n",
      "\n"
     ]
    }
   ],
   "source": [
    "#Add Pooling Layer\n",
    "model.add(MaxPooling2D(pool_size = (2, 2)))"
   ]
  },
  {
   "cell_type": "code",
   "execution_count": 5,
   "metadata": {},
   "outputs": [],
   "source": [
    "#Add Flattening Layer\n",
    "model.add(Flatten())"
   ]
  },
  {
   "cell_type": "code",
   "execution_count": 6,
   "metadata": {},
   "outputs": [
    {
     "name": "stderr",
     "output_type": "stream",
     "text": [
      "C:\\Users\\Gowtham Reddy\\anaconda3\\lib\\site-packages\\ipykernel_launcher.py:2: UserWarning: Update your `Dense` call to the Keras 2 API: `Dense(activation=\"relu\", units=120, kernel_initializer=\"uniform\")`\n",
      "  \n"
     ]
    }
   ],
   "source": [
    "#Add Hidden Layer\n",
    "model.add(Dense(init=\"uniform\",activation=\"relu\",output_dim=120))"
   ]
  },
  {
   "cell_type": "code",
   "execution_count": 7,
   "metadata": {},
   "outputs": [
    {
     "name": "stderr",
     "output_type": "stream",
     "text": [
      "C:\\Users\\Gowtham Reddy\\anaconda3\\lib\\site-packages\\ipykernel_launcher.py:2: UserWarning: Update your `Dense` call to the Keras 2 API: `Dense(activation=\"sigmoid\", units=1, kernel_initializer=\"uniform\")`\n",
      "  \n"
     ]
    }
   ],
   "source": [
    "#Add Output layer\n",
    "model.add(Dense(init=\"uniform\",activation=\"sigmoid\",output_dim=1))"
   ]
  },
  {
   "cell_type": "code",
   "execution_count": 8,
   "metadata": {},
   "outputs": [
    {
     "name": "stdout",
     "output_type": "stream",
     "text": [
      "WARNING:tensorflow:From C:\\Users\\Gowtham Reddy\\anaconda3\\lib\\site-packages\\tensorflow\\python\\ops\\nn_impl.py:180: add_dispatch_support.<locals>.wrapper (from tensorflow.python.ops.array_ops) is deprecated and will be removed in a future version.\n",
      "Instructions for updating:\n",
      "Use tf.where in 2.0, which has the same broadcast rule as np.where\n"
     ]
    }
   ],
   "source": [
    "#Compile the model\n",
    "model.compile(loss=\"binary_crossentropy\",optimizer=\"adam\",metrics=[\"accuracy\"])"
   ]
  },
  {
   "cell_type": "code",
   "execution_count": 9,
   "metadata": {},
   "outputs": [],
   "source": [
    "from keras.preprocessing.image import ImageDataGenerator"
   ]
  },
  {
   "cell_type": "code",
   "execution_count": 10,
   "metadata": {},
   "outputs": [],
   "source": [
    "train_datagen = ImageDataGenerator(rescale = 1./255,\n",
    "                                   shear_range = 0.2,\n",
    "                                   zoom_range = 0.2,\n",
    "                                   rotation_range=0.8,\n",
    "                                   horizontal_flip = True,\n",
    "                                  vertical_flip=True)\n",
    "\n",
    "test_datagen = ImageDataGenerator(rescale = 1./255)"
   ]
  },
  {
   "cell_type": "code",
   "execution_count": 12,
   "metadata": {},
   "outputs": [
    {
     "name": "stdout",
     "output_type": "stream",
     "text": [
      "Found 1600 images belonging to 2 classes.\n",
      "Found 398 images belonging to 2 classes.\n"
     ]
    }
   ],
   "source": [
    "x_train = train_datagen.flow_from_directory(r'C:\\Users\\Gowtham Reddy\\Desktop\\project1\\project1\\train_set',\n",
    "                                                 target_size = (64, 64),\n",
    "                                                 batch_size = 32,\n",
    "                                                class_mode = 'binary')\n",
    "x_test = test_datagen.flow_from_directory(r'C:\\Users\\Gowtham Reddy\\Desktop\\project1\\project1\\test_set',\n",
    "                                            target_size = (64, 64),\n",
    "                                            batch_size = 32,\n",
    "                                            class_mode = 'binary')\n"
   ]
  },
  {
   "cell_type": "code",
   "execution_count": 13,
   "metadata": {},
   "outputs": [
    {
     "name": "stdout",
     "output_type": "stream",
     "text": [
      "{'infected': 0, 'uninfected': 1}\n"
     ]
    }
   ],
   "source": [
    "print(x_train.class_indices)"
   ]
  },
  {
   "cell_type": "code",
   "execution_count": 14,
   "metadata": {},
   "outputs": [
    {
     "name": "stderr",
     "output_type": "stream",
     "text": [
      "C:\\Users\\Gowtham Reddy\\anaconda3\\lib\\site-packages\\ipykernel_launcher.py:1: UserWarning: The semantics of the Keras 2 argument `steps_per_epoch` is not the same as the Keras 1 argument `samples_per_epoch`. `steps_per_epoch` is the number of batches to draw from the generator at each epoch. Basically steps_per_epoch = samples_per_epoch/batch_size. Similarly `nb_val_samples`->`validation_steps` and `val_samples`->`steps` arguments have changed. Update your method calls accordingly.\n",
      "  \"\"\"Entry point for launching an IPython kernel.\n",
      "C:\\Users\\Gowtham Reddy\\anaconda3\\lib\\site-packages\\ipykernel_launcher.py:1: UserWarning: Update your `fit_generator` call to the Keras 2 API: `fit_generator(<keras.pre..., epochs=50, validation_data=<keras.pre..., steps_per_epoch=62, validation_steps=200)`\n",
      "  \"\"\"Entry point for launching an IPython kernel.\n"
     ]
    },
    {
     "name": "stdout",
     "output_type": "stream",
     "text": [
      "WARNING:tensorflow:From C:\\Users\\Gowtham Reddy\\anaconda3\\lib\\site-packages\\keras\\backend\\tensorflow_backend.py:422: The name tf.global_variables is deprecated. Please use tf.compat.v1.global_variables instead.\n",
      "\n",
      "Epoch 1/50\n",
      "62/62 [==============================] - 31s 507ms/step - loss: 0.6131 - accuracy: 0.6668 - val_loss: 0.4614 - val_accuracy: 0.7188\n",
      "Epoch 2/50\n",
      "62/62 [==============================] - 32s 522ms/step - loss: 0.3434 - accuracy: 0.8674 - val_loss: 0.5896 - val_accuracy: 0.8148\n",
      "Epoch 3/50\n",
      "62/62 [==============================] - 28s 445ms/step - loss: 0.3094 - accuracy: 0.8805 - val_loss: 0.2359 - val_accuracy: 0.8490\n",
      "Epoch 4/50\n",
      "62/62 [==============================] - 29s 469ms/step - loss: 0.2602 - accuracy: 0.8997 - val_loss: 0.3494 - val_accuracy: 0.8719\n",
      "Epoch 5/50\n",
      "62/62 [==============================] - 28s 454ms/step - loss: 0.2583 - accuracy: 0.9083 - val_loss: 0.4322 - val_accuracy: 0.8243\n",
      "Epoch 6/50\n",
      "62/62 [==============================] - 28s 456ms/step - loss: 0.2649 - accuracy: 0.9052 - val_loss: 0.3790 - val_accuracy: 0.8815\n",
      "Epoch 7/50\n",
      "62/62 [==============================] - 29s 464ms/step - loss: 0.2316 - accuracy: 0.9098 - val_loss: 0.2566 - val_accuracy: 0.8648\n",
      "Epoch 8/50\n",
      "62/62 [==============================] - 27s 441ms/step - loss: 0.2099 - accuracy: 0.9234 - val_loss: 0.5268 - val_accuracy: 0.8940\n",
      "Epoch 9/50\n",
      "62/62 [==============================] - 30s 478ms/step - loss: 0.1993 - accuracy: 0.9249 - val_loss: 0.1460 - val_accuracy: 0.8930\n",
      "Epoch 10/50\n",
      "62/62 [==============================] - 28s 458ms/step - loss: 0.1813 - accuracy: 0.9375 - val_loss: 0.1521 - val_accuracy: 0.9091\n",
      "Epoch 11/50\n",
      "62/62 [==============================] - 27s 439ms/step - loss: 0.1999 - accuracy: 0.9204 - val_loss: 0.1178 - val_accuracy: 0.9148\n",
      "Epoch 12/50\n",
      "62/62 [==============================] - 27s 441ms/step - loss: 0.1696 - accuracy: 0.9330 - val_loss: 0.1689 - val_accuracy: 0.9418\n",
      "Epoch 13/50\n",
      "62/62 [==============================] - 28s 458ms/step - loss: 0.1494 - accuracy: 0.9466 - val_loss: 0.1489 - val_accuracy: 0.8318\n",
      "Epoch 14/50\n",
      "62/62 [==============================] - 27s 439ms/step - loss: 0.1456 - accuracy: 0.9446 - val_loss: 0.2753 - val_accuracy: 0.9196\n",
      "Epoch 15/50\n",
      "62/62 [==============================] - 27s 440ms/step - loss: 0.1758 - accuracy: 0.9284 - val_loss: 0.2741 - val_accuracy: 0.9049\n",
      "Epoch 16/50\n",
      "62/62 [==============================] - 28s 454ms/step - loss: 0.1401 - accuracy: 0.9466 - val_loss: 0.3067 - val_accuracy: 0.8945\n",
      "Epoch 17/50\n",
      "62/62 [==============================] - 29s 466ms/step - loss: 0.1412 - accuracy: 0.9516 - val_loss: 0.1240 - val_accuracy: 0.9163\n",
      "Epoch 18/50\n",
      "62/62 [==============================] - 27s 437ms/step - loss: 0.1090 - accuracy: 0.9597 - val_loss: 0.2808 - val_accuracy: 0.8874\n",
      "Epoch 19/50\n",
      "62/62 [==============================] - 27s 439ms/step - loss: 0.1222 - accuracy: 0.9506 - val_loss: 0.1988 - val_accuracy: 0.9221\n",
      "Epoch 20/50\n",
      "62/62 [==============================] - 28s 455ms/step - loss: 0.1184 - accuracy: 0.9536 - val_loss: 0.2601 - val_accuracy: 0.8705\n",
      "Epoch 21/50\n",
      "62/62 [==============================] - 31s 502ms/step - loss: 0.0916 - accuracy: 0.9708 - val_loss: 0.2461 - val_accuracy: 0.9118\n",
      "Epoch 22/50\n",
      "62/62 [==============================] - 28s 450ms/step - loss: 0.1310 - accuracy: 0.9466 - val_loss: 0.5592 - val_accuracy: 0.8577\n",
      "Epoch 23/50\n",
      "62/62 [==============================] - 27s 438ms/step - loss: 0.0975 - accuracy: 0.9677 - val_loss: 0.1909 - val_accuracy: 0.9473\n",
      "Epoch 24/50\n",
      "62/62 [==============================] - 27s 438ms/step - loss: 0.0953 - accuracy: 0.9698 - val_loss: 0.2453 - val_accuracy: 0.8460\n",
      "Epoch 25/50\n",
      "62/62 [==============================] - 27s 437ms/step - loss: 0.0847 - accuracy: 0.9708 - val_loss: 0.1876 - val_accuracy: 0.8741\n",
      "Epoch 26/50\n",
      "62/62 [==============================] - 31s 495ms/step - loss: 0.0886 - accuracy: 0.9688 - val_loss: 0.1711 - val_accuracy: 0.9542\n",
      "Epoch 27/50\n",
      "62/62 [==============================] - 29s 462ms/step - loss: 0.0753 - accuracy: 0.9753 - val_loss: 0.0711 - val_accuracy: 0.9480\n",
      "Epoch 28/50\n",
      "62/62 [==============================] - 34s 548ms/step - loss: 0.0917 - accuracy: 0.9682 - val_loss: 0.3324 - val_accuracy: 0.8883\n",
      "Epoch 29/50\n",
      "62/62 [==============================] - 27s 440ms/step - loss: 0.0896 - accuracy: 0.9662 - val_loss: 0.2677 - val_accuracy: 0.9172\n",
      "Epoch 30/50\n",
      "62/62 [==============================] - 30s 484ms/step - loss: 0.0952 - accuracy: 0.9632 - val_loss: 0.2779 - val_accuracy: 0.9347\n",
      "Epoch 31/50\n",
      "62/62 [==============================] - 27s 439ms/step - loss: 0.0702 - accuracy: 0.9763 - val_loss: 0.0834 - val_accuracy: 0.9279\n",
      "Epoch 32/50\n",
      "62/62 [==============================] - 30s 482ms/step - loss: 0.0910 - accuracy: 0.9647 - val_loss: 0.1837 - val_accuracy: 0.8923\n",
      "Epoch 33/50\n",
      "62/62 [==============================] - 29s 471ms/step - loss: 0.0915 - accuracy: 0.9647 - val_loss: 0.1596 - val_accuracy: 0.9600\n",
      "Epoch 34/50\n",
      "62/62 [==============================] - 36s 580ms/step - loss: 0.0633 - accuracy: 0.9803 - val_loss: 0.2715 - val_accuracy: 0.9422\n",
      "Epoch 35/50\n",
      "62/62 [==============================] - 38s 606ms/step - loss: 0.0744 - accuracy: 0.9728 - val_loss: 0.5056 - val_accuracy: 0.8672\n",
      "Epoch 36/50\n",
      "62/62 [==============================] - 36s 574ms/step - loss: 0.0660 - accuracy: 0.9738 - val_loss: 0.1729 - val_accuracy: 0.9171\n",
      "Epoch 37/50\n",
      "62/62 [==============================] - 31s 502ms/step - loss: 0.0651 - accuracy: 0.9788 - val_loss: 0.1333 - val_accuracy: 0.9349\n",
      "Epoch 38/50\n",
      "62/62 [==============================] - 29s 471ms/step - loss: 0.0555 - accuracy: 0.9798 - val_loss: 0.1097 - val_accuracy: 0.9569\n",
      "Epoch 39/50\n",
      "62/62 [==============================] - 35s 566ms/step - loss: 0.0691 - accuracy: 0.9768 - val_loss: 0.1441 - val_accuracy: 0.9326\n",
      "Epoch 40/50\n",
      "62/62 [==============================] - 28s 457ms/step - loss: 0.0535 - accuracy: 0.9824 - val_loss: 0.0285 - val_accuracy: 0.9600\n",
      "Epoch 41/50\n",
      "62/62 [==============================] - 30s 481ms/step - loss: 0.0570 - accuracy: 0.9783 - val_loss: 0.1028 - val_accuracy: 0.9440\n",
      "Epoch 42/50\n",
      "62/62 [==============================] - 30s 483ms/step - loss: 0.0614 - accuracy: 0.9773 - val_loss: 0.0605 - val_accuracy: 0.9478\n",
      "Epoch 43/50\n",
      "62/62 [==============================] - 29s 460ms/step - loss: 0.0637 - accuracy: 0.9808 - val_loss: 0.1026 - val_accuracy: 0.9592\n",
      "Epoch 44/50\n",
      "62/62 [==============================] - 27s 438ms/step - loss: 0.0539 - accuracy: 0.9819 - val_loss: 0.1605 - val_accuracy: 0.9556\n",
      "Epoch 45/50\n",
      "62/62 [==============================] - 27s 442ms/step - loss: 0.0581 - accuracy: 0.9808 - val_loss: 0.0390 - val_accuracy: 0.9472\n",
      "Epoch 46/50\n",
      "62/62 [==============================] - 27s 443ms/step - loss: 0.0565 - accuracy: 0.9798 - val_loss: 0.1961 - val_accuracy: 0.9044\n",
      "Epoch 47/50\n",
      "62/62 [==============================] - 29s 467ms/step - loss: 0.0614 - accuracy: 0.9743 - val_loss: 0.2076 - val_accuracy: 0.9022\n",
      "Epoch 48/50\n",
      "62/62 [==============================] - 29s 462ms/step - loss: 0.0493 - accuracy: 0.9819 - val_loss: 0.0240 - val_accuracy: 0.9520\n",
      "Epoch 49/50\n",
      "62/62 [==============================] - 29s 460ms/step - loss: 0.0527 - accuracy: 0.9814 - val_loss: 0.0368 - val_accuracy: 0.9272\n",
      "Epoch 50/50\n",
      "62/62 [==============================] - 28s 448ms/step - loss: 0.0458 - accuracy: 0.9849 - val_loss: 0.1635 - val_accuracy: 0.9426\n"
     ]
    },
    {
     "data": {
      "text/plain": [
       "<keras.callbacks.callbacks.History at 0x2092289d508>"
      ]
     },
     "execution_count": 14,
     "metadata": {},
     "output_type": "execute_result"
    }
   ],
   "source": [
    "model.fit_generator(x_train,samples_per_epoch = 2000,epochs=50,validation_data=x_test,nb_val_samples=200)"
   ]
  },
  {
   "cell_type": "code",
   "execution_count": 82,
   "metadata": {},
   "outputs": [],
   "source": [
    "model.save('mymodel.h5')"
   ]
  },
  {
   "cell_type": "code",
   "execution_count": 4,
   "metadata": {},
   "outputs": [
    {
     "name": "stdout",
     "output_type": "stream",
     "text": [
      "Collecting opencv-python==3.4.2.17\n",
      "  Downloading opencv_python-3.4.2.17-cp37-cp37m-win_amd64.whl (33.8 MB)\n",
      "Requirement already satisfied: numpy>=1.14.5 in c:\\users\\prakhyathi\\anaconda3\\lib\\site-packages (from opencv-python==3.4.2.17) (1.18.1)\n",
      "Installing collected packages: opencv-python\n",
      "  Attempting uninstall: opencv-python\n",
      "    Found existing installation: opencv-python 4.2.0.34\n",
      "    Uninstalling opencv-python-4.2.0.34:\n",
      "      Successfully uninstalled opencv-python-4.2.0.34\n",
      "Successfully installed opencv-python-3.4.2.17\n",
      "Note: you may need to restart the kernel to use updated packages.\n"
     ]
    }
   ],
   "source": [
    "pip install opencv-python==3.4.2.17"
   ]
  },
  {
   "cell_type": "code",
   "execution_count": 83,
   "metadata": {},
   "outputs": [],
   "source": [
    "from keras.models import load_model\n",
    "import numpy as np\n",
    "import cv2\n",
    "model=load_model('mymodel.h5')"
   ]
  },
  {
   "cell_type": "code",
   "execution_count": 19,
   "metadata": {},
   "outputs": [],
   "source": []
  },
  {
   "cell_type": "code",
   "execution_count": 84,
   "metadata": {},
   "outputs": [],
   "source": [
    "from skimage.transform import resize\n",
    "\n",
    "def detect(frame):\n",
    "    try:\n",
    "        img = resize(frame,(64,64))\n",
    "        img = np.expand_dims(img,axis=0)\n",
    "        if(np.max(img)>1):\n",
    "            img = img/255.0\n",
    "        prediction = model.predict(img)\n",
    "        print(prediction)\n",
    "        prediction = model.predict_classes(img)\n",
    "        print(prediction)\n",
    "    except AttributeError:\n",
    "        print(\"shape not found\")\n"
   ]
  },
  {
   "cell_type": "code",
   "execution_count": 85,
   "metadata": {},
   "outputs": [
    {
     "name": "stdout",
     "output_type": "stream",
     "text": [
      "[[0.94706935]]\n",
      "[[1]]\n"
     ]
    }
   ],
   "source": [
    "frame=cv2.imread(r\"C:\\Users\\Gowtham Reddy\\Desktop\\project1\\project1\\test_set\\infected\\a.png\")\n",
    "data=detect(frame)"
   ]
  },
  {
   "cell_type": "code",
   "execution_count": null,
   "metadata": {},
   "outputs": [],
   "source": []
  },
  {
   "cell_type": "code",
   "execution_count": null,
   "metadata": {},
   "outputs": [],
   "source": []
  }
 ],
 "metadata": {
  "kernelspec": {
   "display_name": "Python 3",
   "language": "python",
   "name": "python3"
  },
  "language_info": {
   "codemirror_mode": {
    "name": "ipython",
    "version": 3
   },
   "file_extension": ".py",
   "mimetype": "text/x-python",
   "name": "python",
   "nbconvert_exporter": "python",
   "pygments_lexer": "ipython3",
   "version": "3.7.6"
  }
 },
 "nbformat": 4,
 "nbformat_minor": 4
}
